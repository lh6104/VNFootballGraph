{
 "cells": [
  {
   "cell_type": "code",
   "execution_count": 8,
   "id": "d706f8da-e374-4e9e-8b3b-345ac5b26183",
   "metadata": {},
   "outputs": [
    {
     "data": {
      "text/markdown": [
       "### 📘 Tổng số category cần thu thập: 34"
      ],
      "text/plain": [
       "<IPython.core.display.Markdown object>"
      ]
     },
     "metadata": {},
     "output_type": "display_data"
    },
    {
     "data": {
      "text/markdown": [
       "- **players**: 19 mục"
      ],
      "text/plain": [
       "<IPython.core.display.Markdown object>"
      ]
     },
     "metadata": {},
     "output_type": "display_data"
    },
    {
     "data": {
      "text/markdown": [
       "- **female_players**: 2 mục"
      ],
      "text/plain": [
       "<IPython.core.display.Markdown object>"
      ]
     },
     "metadata": {},
     "output_type": "display_data"
    },
    {
     "data": {
      "text/markdown": [
       "- **coaches**: 3 mục"
      ],
      "text/plain": [
       "<IPython.core.display.Markdown object>"
      ]
     },
     "metadata": {},
     "output_type": "display_data"
    },
    {
     "data": {
      "text/markdown": [
       "- **clubs**: 3 mục"
      ],
      "text/plain": [
       "<IPython.core.display.Markdown object>"
      ]
     },
     "metadata": {},
     "output_type": "display_data"
    },
    {
     "data": {
      "text/markdown": [
       "- **national_teams**: 4 mục"
      ],
      "text/plain": [
       "<IPython.core.display.Markdown object>"
      ]
     },
     "metadata": {},
     "output_type": "display_data"
    },
    {
     "data": {
      "text/markdown": [
       "- **overseas**: 3 mục"
      ],
      "text/plain": [
       "<IPython.core.display.Markdown object>"
      ]
     },
     "metadata": {},
     "output_type": "display_data"
    },
    {
     "name": "stdout",
     "output_type": "stream",
     "text": [
      "🧩 Ví dụ vài category đầu tiên: ['Cầu thủ bóng đá Việt Nam', 'Cầu thủ bóng đá nam Việt Nam', 'Cầu thủ bóng đá Việt Nam ở nước ngoài', 'Cầu thủ bóng đá sinh năm 1990', 'Cầu thủ bóng đá sinh năm 1991', 'Cầu thủ bóng đá sinh năm 1992', 'Cầu thủ bóng đá sinh năm 1993', 'Cầu thủ bóng đá sinh năm 1994']\n"
     ]
    }
   ],
   "source": [
    "# ==================================================\n",
    "# VNFootballGraph - Thu thập dữ liệu Wikipedia\n",
    "# ==================================================\n",
    "import json\n",
    "import wikipediaapi\n",
    "import mwparserfromhell\n",
    "import pandas as pd\n",
    "import os\n",
    "from tqdm import tqdm\n",
    "from datetime import datetime\n",
    "from IPython.display import Markdown, display\n",
    "\n",
    "# ---------------------------------------------\n",
    "# 1️⃣ Đọc danh sách category từ file JSON\n",
    "# ---------------------------------------------\n",
    "with open(\"data/categories.json\", encoding=\"utf-8\") as f:\n",
    "    cat_data = json.load(f)\n",
    "\n",
    "# Gộp tất cả nhóm category lại thành 1 list chung\n",
    "categories = (\n",
    "    cat_data[\"players\"] +\n",
    "    cat_data[\"female_players\"] +\n",
    "    cat_data[\"coaches\"] +\n",
    "    cat_data[\"clubs\"] +\n",
    "    cat_data[\"national_teams\"] +\n",
    "    cat_data[\"overseas\"]\n",
    ")\n",
    "\n",
    "display(Markdown(f\"### 📘 Tổng số category cần thu thập: {len(categories)}\"))\n",
    "for name, lst in cat_data.items():\n",
    "    display(Markdown(f\"- **{name}**: {len(lst)} mục\"))\n",
    "\n",
    "print(\"🧩 Ví dụ vài category đầu tiên:\", categories[:8])\n"
   ]
  },
  {
   "cell_type": "code",
   "execution_count": 10,
   "id": "9ada8f4c-66e4-433d-8cb7-05e9e1e8a698",
   "metadata": {},
   "outputs": [],
   "source": [
    "\n",
    "# ---------------------------------------------\n",
    "# 2️⃣ Khởi tạo Wikipedia API và hàm hỗ trợ\n",
    "# ---------------------------------------------\n",
    "wiki = wikipediaapi.Wikipedia(\n",
    "    language='vi',\n",
    "    user_agent='VNFootballGraph/1.2 (contact: longha6104@gmail.com)'\n",
    ")\n",
    "\n",
    "def get_pages_from_category(cat_name, max_depth=2):\n",
    "    \"\"\"Lấy toàn bộ bài viết từ một category (và các subcategory nếu có)\"\"\"\n",
    "    cat_page = wiki.page(\"Thể loại:\" + cat_name)\n",
    "    pages = []\n",
    "    def crawl(category, level):\n",
    "        if level > max_depth:\n",
    "            return\n",
    "        for c in category.categorymembers.values():\n",
    "            if c.ns == 0:  # bài viết\n",
    "                pages.append(c)\n",
    "            elif c.ns == 14:  # thể loại con\n",
    "                crawl(c, level + 1)\n",
    "    crawl(cat_page, 0)\n",
    "    return pages\n",
    "\n",
    "def extract_infobox_and_text(text):\n",
    "    \"\"\"Tách Infobox (dict) và phần text (giới hạn 4000 ký tự)\"\"\"\n",
    "    try:\n",
    "        wikicode = mwparserfromhell.parse(text)\n",
    "        info = {}\n",
    "        for t in wikicode.filter_templates():\n",
    "            if \"infobox\" in t.name.lower() or \"hộp thông tin\" in t.name.lower():\n",
    "                for p in t.params:\n",
    "                    key = str(p.name).lower().strip()\n",
    "                    val = str(p.value).strip()\n",
    "                    info[key] = val\n",
    "        return info, wikicode.strip_code().strip()[:4000]\n",
    "    except Exception:\n",
    "        return {}, \"\"\n",
    "\n",
    "def get_internal_links(page):\n",
    "    \"\"\"Trả về danh sách liên kết nội bộ (internal links)\"\"\"\n",
    "    return [l for l in page.links.keys() if not l.startswith(\"Thể loại\")]\n",
    "\n"
   ]
  },
  {
   "cell_type": "code",
   "execution_count": null,
   "id": "1d129ee2-c6d5-4896-a857-afa51301b252",
   "metadata": {},
   "outputs": [
    {
     "data": {
      "text/markdown": [
       "### 🚀 Bắt đầu thu thập dữ liệu: 11:12:26"
      ],
      "text/plain": [
       "<IPython.core.display.Markdown object>"
      ]
     },
     "metadata": {},
     "output_type": "display_data"
    },
    {
     "name": "stdout",
     "output_type": "stream",
     "text": [
      "\n",
      "==> Đang thu thập thể loại: Cầu thủ bóng đá Việt Nam\n",
      "   🧩 Tìm thấy 1482 bài viết.\n"
     ]
    },
    {
     "name": "stderr",
     "output_type": "stream",
     "text": [
      "100%|████████████████████████████████████████████████████████████████████████████████████████████████████████████████████████| 1482/1482 [21:48<00:00,  1.13it/s]\n"
     ]
    },
    {
     "name": "stdout",
     "output_type": "stream",
     "text": [
      "\n",
      "==> Đang thu thập thể loại: Cầu thủ bóng đá nam Việt Nam\n",
      "   🧩 Tìm thấy 517 bài viết.\n"
     ]
    },
    {
     "name": "stderr",
     "output_type": "stream",
     "text": [
      "  5%|██████▍                                                                                                                    | 27/517 [00:22<07:48,  1.05it/s]"
     ]
    }
   ],
   "source": [
    "# ---------------------------------------------\n",
    "# 3️⃣ Bắt đầu thu thập dữ liệu\n",
    "# ---------------------------------------------\n",
    "os.makedirs(\"data\", exist_ok=True)\n",
    "all_data = []\n",
    "scraped_titles = []\n",
    "stats = []\n",
    "\n",
    "start_time = datetime.now()\n",
    "display(Markdown(f\"### 🚀 Bắt đầu thu thập dữ liệu: {start_time.strftime('%H:%M:%S')}\"))\n",
    "\n",
    "for cat in categories:\n",
    "    print(f\"\\n==> Đang thu thập thể loại: {cat}\")\n",
    "    pages = get_pages_from_category(cat, max_depth=2)\n",
    "    print(f\"   🧩 Tìm thấy {len(pages)} bài viết.\")\n",
    "\n",
    "    valid_count = 0\n",
    "    for p in tqdm(pages):\n",
    "        if p.ns == 0:\n",
    "            info, text = extract_infobox_and_text(p.text)\n",
    "            links = get_internal_links(p)\n",
    "            if info or links:\n",
    "                all_data.append({\n",
    "                    \"title\": p.title,\n",
    "                    \"category\": cat,\n",
    "                    \"url\": f\"https://vi.wikipedia.org/wiki/{p.title.replace(' ', '_')}\",\n",
    "                    \"infobox_data\": info,\n",
    "                    \"text\": text,\n",
    "                    \"links\": links\n",
    "                })\n",
    "                scraped_titles.append(p.title)\n",
    "                valid_count += 1\n",
    "    stats.append((cat, len(pages), valid_count))\n"
   ]
  },
  {
   "cell_type": "code",
   "execution_count": null,
   "id": "cbdce73b-5424-4e7d-8b71-59ec29392494",
   "metadata": {},
   "outputs": [],
   "source": []
  }
 ],
 "metadata": {
  "kernelspec": {
   "display_name": "Python 3 (ipykernel)",
   "language": "python",
   "name": "python3"
  },
  "language_info": {
   "codemirror_mode": {
    "name": "ipython",
    "version": 3
   },
   "file_extension": ".py",
   "mimetype": "text/x-python",
   "name": "python",
   "nbconvert_exporter": "python",
   "pygments_lexer": "ipython3",
   "version": "3.10.18"
  }
 },
 "nbformat": 4,
 "nbformat_minor": 5
}
